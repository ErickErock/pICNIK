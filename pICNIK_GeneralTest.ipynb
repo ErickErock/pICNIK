{
 "cells": [
  {
   "cell_type": "code",
   "execution_count": 1,
   "id": "initial_id",
   "metadata": {
    "ExecuteTime": {
     "end_time": "2025-09-11T19:24:33.099085Z",
     "start_time": "2025-09-11T19:24:32.262476Z"
    }
   },
   "outputs": [],
   "source": [
    "import picnik as pnk\n",
    "import numpy as np\n",
    "import matplotlib.pyplot as plt\n",
    "\n",
    "%matplotlib tk"
   ]
  },
  {
   "cell_type": "code",
   "execution_count": 2,
   "id": "7fdc8d71d4ca8147",
   "metadata": {
    "ExecuteTime": {
     "end_time": "2025-09-11T19:24:33.240035Z",
     "start_time": "2025-09-11T19:24:33.237124Z"
    }
   },
   "outputs": [],
   "source": [
    "\"\"\" Numerically generated da\n",
    "with a F1 model \"\"\"\n",
    "\n",
    "one_step = ['CursoSICAMER_2024/SingleStep/E_cnt_2.5.csv',\n",
    "            'CursoSICAMER_2024/SingleStep/E_cnt_5.csv',\n",
    "            'CursoSICAMER_2024/SingleStep/E_cnt_10.csv',\n",
    "            'CursoSICAMER_2024/SingleStep/E_cnt_20.csv']"
   ]
  },
  {
   "cell_type": "code",
   "execution_count": 3,
   "id": "55f1aaac36f7d3c",
   "metadata": {
    "ExecuteTime": {
     "end_time": "2025-09-11T19:24:33.707271Z",
     "start_time": "2025-09-11T19:24:33.295308Z"
    }
   },
   "outputs": [
    {
     "name": "stdout",
     "output_type": "stream",
     "text": [
      "Files to be used: \n",
      "['CursoSICAMER_2024/SingleStep/E_cnt_2.5.csv', 'CursoSICAMER_2024/SingleStep/E_cnt_5.csv', 'CursoSICAMER_2024/SingleStep/E_cnt_10.csv', 'CursoSICAMER_2024/SingleStep/E_cnt_20.csv']\n",
      " \n",
      "Reading files and creating DataFrames...\n",
      "\n",
      "The computed heating rates are:\n",
      "\n",
      "\n",
      " 2.500 +/- 0.000 K/min\n",
      "\n",
      "\n",
      " 5.000 +/- 0.000 K/min\n",
      "\n",
      "\n",
      "10.000 +/- 0.000 K/min\n",
      "\n",
      "\n",
      "20.000 +/- 0.000 K/min\n",
      "\n",
      "Computing conversion values...\n",
      "Done\n",
      "Creating Isoconversion DataFrames...\n",
      "Done\n"
     ]
    }
   ],
   "source": [
    "xtr_num = pnk.DataExtraction()\n",
    "Bnum, T0num = xtr_num.read_files(one_step)\n",
    "\n",
    "\n",
    "\n",
    "\n",
    "\n",
    "xtr_num.plot_data(x_data='temperature', x_units='K')\n",
    "xtr_num.Conversion([xtr_num.DFlis[k]['Temperature [K]'].values[0] for k in range(len(Bnum))],\n",
    "                   [xtr_num.DFlis[k]['Temperature [K]'].values[-1] for k in range(len(Bnum))])  # calculation of the conversion degree in the temperature range (Ti,Tf)\n",
    "isoTables_num = xtr_num.Isoconversion(d_a=0.02)"
   ]
  },
  {
   "cell_type": "code",
   "execution_count": 4,
   "id": "f6224f7b66807d92",
   "metadata": {
    "ExecuteTime": {
     "end_time": "2025-09-11T19:24:34.297069Z",
     "start_time": "2025-09-11T19:24:33.729859Z"
    }
   },
   "outputs": [
    {
     "name": "stdout",
     "output_type": "stream",
     "text": [
      "Advanced Vyazovkin method: Computing activation energies...\n",
      "Done.\n"
     ]
    }
   ],
   "source": [
    "ace_num = pnk.ActivationEnergy(Bnum,\n",
    "                           T0num,\n",
    "                           isoTables_num)\n",
    "aVy_num = ace_num.aVy((0,180),var='time', p= 0.90)\n"
   ]
  },
  {
   "cell_type": "code",
   "execution_count": 5,
   "id": "84d332946c58cfea",
   "metadata": {
    "ExecuteTime": {
     "end_time": "2025-09-11T19:24:34.321749Z",
     "start_time": "2025-09-11T19:24:34.312929Z"
    }
   },
   "outputs": [],
   "source": [
    "ace_num.Ea_plot()"
   ]
  },
  {
   "cell_type": "code",
   "execution_count": 7,
   "id": "8387d3ead23935ea",
   "metadata": {
    "ExecuteTime": {
     "end_time": "2025-09-11T19:24:34.994991Z",
     "start_time": "2025-09-11T19:24:34.937799Z"
    }
   },
   "outputs": [],
   "source": [
    "compensation_num = ace_num.compensation_effect(0,\n",
    "                                               aVy_num[2],\n",
    "                                               aVy_num[3],\n",
    "                                               error_m='r_NL')"
   ]
  },
  {
   "cell_type": "code",
   "execution_count": 8,
   "id": "146ccc044a12ff95",
   "metadata": {
    "ExecuteTime": {
     "end_time": "2025-09-11T19:24:35.034307Z",
     "start_time": "2025-09-11T19:24:35.019175Z"
    }
   },
   "outputs": [],
   "source": [
    "plt.errorbar(aVy_num[0],\n",
    "             compensation_num[0],\n",
    "             compensation_num[1])\n",
    "plt.xlabel(r'$\\alpha$')\n",
    "plt.ylabel(r'$\\ln(A_{\\alpha})$')\n",
    "plt.grid(True)"
   ]
  },
  {
   "cell_type": "code",
   "execution_count": 9,
   "id": "8e8a72bacd565479",
   "metadata": {
    "ExecuteTime": {
     "end_time": "2025-09-11T19:24:35.303965Z",
     "start_time": "2025-09-11T19:24:35.284136Z"
    }
   },
   "outputs": [
    {
     "data": {
      "text/plain": [
       "array([0.02895006, 0.05218128, 0.07553583, 0.09928398, 0.12350765,\n",
       "       0.14824854, 0.17354128, 0.19941565, 0.22590455, 0.25303869,\n",
       "       0.28085054, 0.30938235, 0.33866407, 0.3687475 , 0.39966785,\n",
       "       0.43148173, 0.46423295, 0.4979943 , 0.53281219, 0.56877618,\n",
       "       0.60594835, 0.64441537, 0.68427803, 0.72564579, 0.76861301,\n",
       "       0.81335271, 0.85996147, 0.90865232, 0.95959791, 1.01301706,\n",
       "       1.06914829, 1.12834299, 1.19089208, 1.25723677, 1.32788032,\n",
       "       1.40337377, 1.4844358 , 1.57203089, 1.66720443, 1.77156967,\n",
       "       1.88684152, 2.01590938, 2.16222749, 2.3313628 , 2.53172277,\n",
       "       2.7776505 , 3.09625826, 3.55014086])"
      ]
     },
     "execution_count": 9,
     "metadata": {},
     "output_type": "execute_result"
    }
   ],
   "source": [
    "ace_num.reconstruction(aVy_num[2],\n",
    "                       np.exp(compensation_num[0]),\n",
    "                       Bnum[0])"
   ]
  },
  {
   "cell_type": "code",
   "execution_count": 9,
   "id": "d95d75a32a65d9cf",
   "metadata": {
    "ExecuteTime": {
     "end_time": "2025-09-11T19:24:35.581111Z",
     "start_time": "2025-09-11T19:24:35.574775Z"
    }
   },
   "outputs": [],
   "source": [
    "CuCo = ['CursoSICAMER_2024/ElCuCo/El CuCo TGA N2 11OCT24 4°Cmin.csv',\n",
    "        'CursoSICAMER_2024/ElCuCo/El CuCo TGA N2 11OCT24 6°Cmin.csv',\n",
    "        'CursoSICAMER_2024/ElCuCo/El CuCo TGA N2 11OCT24 8°Cmin.csv']\n"
   ]
  },
  {
   "cell_type": "code",
   "execution_count": 10,
   "id": "f19c14b56d64bc7d",
   "metadata": {
    "ExecuteTime": {
     "end_time": "2025-09-11T19:24:36.905331Z",
     "start_time": "2025-09-11T19:24:35.633949Z"
    }
   },
   "outputs": [
    {
     "name": "stdout",
     "output_type": "stream",
     "text": [
      "Files to be used: \n",
      "['CursoSICAMER_2024/ElCuCo/El CuCo TGA N2 11OCT24 4°Cmin.csv', 'CursoSICAMER_2024/ElCuCo/El CuCo TGA N2 11OCT24 6°Cmin.csv', 'CursoSICAMER_2024/ElCuCo/El CuCo TGA N2 11OCT24 8°Cmin.csv']\n",
      " \n",
      "Reading files and creating DataFrames...\n",
      "\n",
      "The computed heating rates are:\n",
      "\n",
      "\n",
      " 4.296 +/- 0.016 K/min\n",
      "\n",
      "\n",
      " 6.436 +/- 0.015 K/min\n",
      "\n",
      "\n",
      " 8.592 +/- 0.016 K/min\n",
      "\n"
     ]
    }
   ],
   "source": [
    "xtr_CC = pnk.DataExtraction()\n",
    "BCC, T0CC = xtr_CC.read_files(CuCo, diff_smoother='Sp3')"
   ]
  },
  {
   "cell_type": "code",
   "execution_count": 11,
   "id": "65465204f63f7232",
   "metadata": {
    "ExecuteTime": {
     "end_time": "2025-09-11T19:24:37.505964Z",
     "start_time": "2025-09-11T19:24:36.929572Z"
    }
   },
   "outputs": [
    {
     "name": "stdout",
     "output_type": "stream",
     "text": [
      "Computing conversion values...\n",
      "Done\n",
      "Creating Isoconversion DataFrames...\n",
      "Done\n"
     ]
    }
   ],
   "source": [
    "xtr_CC.plot_data(x_data='temperature', x_units='K')\n",
    "xtr_CC.Conversion(300*np.ones(len(xtr_CC.Beta)),420*np.ones(len(xtr_CC.Beta)))  # calculation of the conversion degree in the temperature range (Ti,Tf)2\n",
    "isoTables_CC = xtr_CC.Isoconversion(d_a=0.02)"
   ]
  },
  {
   "cell_type": "code",
   "execution_count": 12,
   "id": "367b2efce82cf9da",
   "metadata": {
    "ExecuteTime": {
     "end_time": "2025-09-11T19:24:38.000323Z",
     "start_time": "2025-09-11T19:24:37.537838Z"
    }
   },
   "outputs": [
    {
     "name": "stdout",
     "output_type": "stream",
     "text": [
      "Advanced Vyazovkin method: Computing activation energies...\n",
      "Done.\n"
     ]
    }
   ],
   "source": [
    "ace_CC = pnk.ActivationEnergy(BCC,\n",
    "                             T0CC,\n",
    "                             isoTables_CC)\n",
    "aVy_CC = ace_CC.aVy((0,380),var='time', p= 0.90)"
   ]
  },
  {
   "cell_type": "code",
   "execution_count": 13,
   "id": "666c4a2230d49698",
   "metadata": {
    "ExecuteTime": {
     "end_time": "2025-09-11T19:24:38.034423Z",
     "start_time": "2025-09-11T19:24:38.018755Z"
    }
   },
   "outputs": [],
   "source": [
    "ace_CC.Ea_plot()"
   ]
  },
  {
   "cell_type": "code",
   "execution_count": 14,
   "id": "70d4a565ed1b0350",
   "metadata": {
    "ExecuteTime": {
     "end_time": "2025-09-11T19:24:38.883757Z",
     "start_time": "2025-09-11T19:24:38.873197Z"
    }
   },
   "outputs": [
    {
     "data": {
      "text/plain": [
       "np.float64(8.469664863462173)"
      ]
     },
     "execution_count": 14,
     "metadata": {},
     "output_type": "execute_result"
    }
   ],
   "source": [
    "np.mean(aVy_CC[3])"
   ]
  },
  {
   "cell_type": "code",
   "execution_count": 15,
   "id": "9e6c422cdbfecada",
   "metadata": {
    "ExecuteTime": {
     "end_time": "2025-09-11T19:24:39.335269Z",
     "start_time": "2025-09-11T19:24:39.181798Z"
    }
   },
   "outputs": [
    {
     "name": "stdout",
     "output_type": "stream",
     "text": [
      "Accuracy not met with precision of mse = 0.0001. Lowering precision to mse = 0.001\n",
      "Accuracy not met with precision of mse = 0.001. Lowering precision to mse = 0.005\n"
     ]
    }
   ],
   "source": [
    "compensation_CC = ace_CC.compensation_effect(0,aVy_CC[2], aVy_CC[3],error_m='mse_NL')"
   ]
  },
  {
   "cell_type": "code",
   "execution_count": 16,
   "id": "8dcf0fb9dc591e44",
   "metadata": {
    "ExecuteTime": {
     "end_time": "2025-09-11T19:24:39.375136Z",
     "start_time": "2025-09-11T19:24:39.367752Z"
    }
   },
   "outputs": [
    {
     "data": {
      "text/plain": [
       "(array([-3.31977637e+00, -3.31977627e+00,  3.64295632e-02,  6.77848141e+00,\n",
       "         9.43956382e+00,  1.03900796e+01,  1.05224102e+01,  1.07423924e+01,\n",
       "         1.09318767e+01,  1.14301787e+01,  1.17174741e+01,  1.19296438e+01,\n",
       "         1.23191593e+01,  1.24687798e+01,  1.27792052e+01,  1.29992902e+01,\n",
       "         1.32625507e+01,  1.33697420e+01,  1.35362835e+01,  1.37896159e+01,\n",
       "         1.38825567e+01,  1.40091641e+01,  1.42557895e+01,  1.44746428e+01,\n",
       "         1.47446386e+01,  1.50881136e+01,  1.52629637e+01,  1.56577534e+01,\n",
       "         1.56946824e+01,  1.54469837e+01,  1.57384606e+01,  1.57886238e+01,\n",
       "         1.56172771e+01,  1.55781404e+01,  1.60729508e+01,  1.65962650e+01,\n",
       "         1.74126001e+01,  1.84443033e+01,  1.93943187e+01,  2.08546325e+01,\n",
       "         2.26725475e+01,  2.49969860e+01,  2.80621136e+01,  3.17879212e+01,\n",
       "         3.60051051e+01,  4.14849718e+01,  4.95919126e+01,  6.31252366e+01,\n",
       "         8.77595529e+01]),\n",
       " array([365.15425506, 153.06837254,  16.22030928,   8.01710334,\n",
       "          7.53021397,   9.12087544,  13.34197268,  15.29751544,\n",
       "         17.14163998,  15.55025703,  14.634007  ,  12.39305427,\n",
       "         10.23688201,   9.49691039,   9.77876393,  10.80444457,\n",
       "         13.22263652,  12.63335122,  13.51680529,  14.30426332,\n",
       "         15.4057392 ,  17.45400636,  16.51833374,  17.60115984,\n",
       "         16.75241778,  15.45570594,  15.35144425,  14.90183495,\n",
       "         16.11387273,  18.58272784,  18.56187232,  20.02965565,\n",
       "         23.1839418 ,  26.11174534,  25.96089651,  26.03901019,\n",
       "         24.51350978,  22.10365642,  23.36278186,  25.29536093,\n",
       "         25.69454992,  28.07946673,  31.63826175,  33.96804389,\n",
       "         39.91557339,  45.07202718,  61.74684743,  80.90128711,\n",
       "        112.95355194]),\n",
       " np.float64(0.3847337574181332),\n",
       " np.float64(0.010882012216954343),\n",
       " np.float64(-3.319778162785776),\n",
       " np.float64(0.22704609551454757),\n",
       " array([3.25370008e-03, 1.01612900e-02, 3.24722631e-01, 8.46304992e+00,\n",
       "        3.78176401e+02, 3.78808835e+04, 3.03286669e+06, 2.53670859e+00,\n",
       "        2.25526883e-01, 4.94806360e+00, 1.37920734e+00]),\n",
       " array([-6.94910905, -3.41226858,  5.8539787 , 16.93457925, 23.24888263,\n",
       "        35.31350207, 46.79835061,  9.63178302,  3.309985  , 14.77895492,\n",
       "        10.38096101]),\n",
       " array([0.00455483, 0.00440709, 0.00420746, 0.00191054, 0.00158981,\n",
       "        0.00250737, 0.00473065, 0.00359586, 0.00454633, 0.00217255,\n",
       "        0.00297485]),\n",
       " [<function rxn_models.rxn_models.G7(a, integral=False)>,\n",
       "  <function rxn_models.rxn_models.G8(a, integral=False)>,\n",
       "  <function rxn_models.rxn_models.F1_3(a, integral=False)>,\n",
       "  <function rxn_models.rxn_models.F3_4(a, integral=False)>,\n",
       "  <function rxn_models.rxn_models.F1(a, integral=False)>,\n",
       "  <function rxn_models.rxn_models.F3_2(a, integral=False)>,\n",
       "  <function rxn_models.rxn_models.F2(a, integral=False)>,\n",
       "  <function rxn_models.rxn_models.A3_2(a, integral=False)>,\n",
       "  <function rxn_models.rxn_models.A2(a, integral=False)>,\n",
       "  <function rxn_models.rxn_models.R3(a, integral=False)>,\n",
       "  <function rxn_models.rxn_models.R2(a, integral=False)>])"
      ]
     },
     "execution_count": 16,
     "metadata": {},
     "output_type": "execute_result"
    }
   ],
   "source": [
    "compensation_CC"
   ]
  },
  {
   "cell_type": "code",
   "execution_count": 17,
   "id": "cb142e2ec766f2e1",
   "metadata": {
    "ExecuteTime": {
     "end_time": "2025-09-11T19:24:39.456922Z",
     "start_time": "2025-09-11T19:24:39.430663Z"
    }
   },
   "outputs": [
    {
     "name": "stderr",
     "output_type": "stream",
     "text": [
      "/home/erickerock/.local/lib/python3.10/site-packages/rxn_models/rxn_models.py:294: RuntimeWarning: invalid value encountered in power\n",
      "  return 2*(((np.log(1-a))**(-1/2))-1)\n"
     ]
    },
    {
     "data": {
      "text/plain": [
       "array([1.51007713e-02, 3.00062741e-02, 4.49442110e-02, 6.00744125e-02,\n",
       "       7.62992783e-02, 9.37449364e-02, 1.12302234e-01, 1.32264677e-01,\n",
       "       1.53778663e-01, 1.77396305e-01, 2.03149666e-01, 2.31097141e-01,\n",
       "       2.61875580e-01, 2.95177226e-01, 3.31588449e-01, 3.71022710e-01,\n",
       "       4.13804605e-01, 4.59475092e-01, 5.08285182e-01, 5.60912892e-01,\n",
       "       6.16709656e-01, 6.75898884e-01, 7.39425778e-01, 8.07594589e-01,\n",
       "       8.81147899e-01, 9.61087502e-01, 1.04682000e+00, 1.14160773e+00,\n",
       "       1.24239941e+00, 1.34653595e+00, 1.46155096e+00, 1.58594178e+00,\n",
       "       1.71755747e+00, 1.86006018e+00, 2.02706079e+00, 2.22712298e+00,\n",
       "       2.48122486e+00, 2.82189849e+00, 3.28546991e+00, 3.99396605e+00,\n",
       "       5.19138842e+00, 7.52498556e+00, 1.30707960e+01, 2.93102191e+01,\n",
       "       8.67086404e+01, 3.79154136e+02, 3.45896383e+03, 1.46137632e+05])"
      ]
     },
     "execution_count": 17,
     "metadata": {},
     "output_type": "execute_result"
    }
   ],
   "source": [
    "ace_CC.reconstruction(aVy_CC[2],\n",
    "                       np.exp(compensation_CC[0]),\n",
    "                       BCC[0])"
   ]
  },
  {
   "cell_type": "code",
   "execution_count": 10,
   "id": "f904062c24cd557e",
   "metadata": {
    "ExecuteTime": {
     "end_time": "2025-09-11T19:29:18.133671Z",
     "start_time": "2025-09-11T19:29:18.131131Z"
    }
   },
   "outputs": [],
   "source": [
    "Decane = ['/home/erickerock/Materiales/Thermokinetics/pICNIK/Decano/DEC_1.csv',\n",
    "          '/home/erickerock/Materiales/Thermokinetics/pICNIK/Decano/DEC_1.5.csv',\n",
    "          '/home/erickerock/Materiales/Thermokinetics/pICNIK/Decano/DEC_2.3.csv',\n",
    "          '/home/erickerock/Materiales/Thermokinetics/pICNIK/Decano/DEC_3.5.csv',\n",
    "          '/home/erickerock/Materiales/Thermokinetics/pICNIK/Decano/DEC_5.csv']"
   ]
  },
  {
   "cell_type": "code",
   "execution_count": 11,
   "id": "d0217ceed7215339",
   "metadata": {
    "ExecuteTime": {
     "end_time": "2025-09-11T19:29:19.049482Z",
     "start_time": "2025-09-11T19:29:18.675074Z"
    }
   },
   "outputs": [
    {
     "name": "stdout",
     "output_type": "stream",
     "text": [
      "Files to be used: \n",
      "['/home/erickerock/Materiales/Thermokinetics/pICNIK/Decano/DEC_1.csv', '/home/erickerock/Materiales/Thermokinetics/pICNIK/Decano/DEC_1.5.csv', '/home/erickerock/Materiales/Thermokinetics/pICNIK/Decano/DEC_2.3.csv', '/home/erickerock/Materiales/Thermokinetics/pICNIK/Decano/DEC_3.5.csv', '/home/erickerock/Materiales/Thermokinetics/pICNIK/Decano/DEC_5.csv']\n",
      " \n",
      "Reading files and creating DataFrames...\n",
      "\n",
      "The computed heating rates are:\n",
      "\n",
      "\n",
      " 0.997 +/- 0.001 K/min\n",
      "\n",
      "\n",
      " 1.516 +/- 0.002 K/min\n",
      "\n",
      "\n",
      " 2.321 +/- 0.004 K/min\n",
      "\n",
      "\n",
      " 3.538 +/- 0.006 K/min\n",
      "\n",
      "\n",
      " 5.060 +/- 0.008 K/min\n",
      "\n"
     ]
    }
   ],
   "source": [
    "xtr_dec = pnk.DataExtraction()\n",
    "BD, T0D = xtr_dec.read_files(Decane, encoding='utf16',diff_smoother='SG')"
   ]
  },
  {
   "cell_type": "code",
   "execution_count": 12,
   "id": "9659fe2471f74d1e",
   "metadata": {
    "ExecuteTime": {
     "end_time": "2025-09-11T19:29:19.650675Z",
     "start_time": "2025-09-11T19:29:19.319640Z"
    }
   },
   "outputs": [
    {
     "name": "stdout",
     "output_type": "stream",
     "text": [
      "Computing conversion values...\n",
      "Done\n",
      "Creating Isoconversion DataFrames...\n",
      "Done\n"
     ]
    }
   ],
   "source": [
    "xtr_dec.plot_data(x_data='temperature', x_units='K')\n",
    "xtr_dec.Conversion(300*np.ones(len(xtr_dec.Beta)),[350,360,370,380,390])  # calculation of the conversion degree in the temperature range (Ti,Tf)\n",
    "isoTables_dec = xtr_dec.Isoconversion(d_a=0.02)"
   ]
  },
  {
   "cell_type": "code",
   "execution_count": 13,
   "id": "14df93d44cdcf53a",
   "metadata": {
    "ExecuteTime": {
     "end_time": "2025-09-11T19:29:55.085239Z",
     "start_time": "2025-09-11T19:29:54.397598Z"
    }
   },
   "outputs": [
    {
     "name": "stdout",
     "output_type": "stream",
     "text": [
      "Advanced Vyazovkin method: Computing activation energies...\n",
      "Done.\n"
     ]
    }
   ],
   "source": [
    "ace_dec = pnk.ActivationEnergy(BD,\n",
    "                           T0D,\n",
    "                           isoTables_dec)\n",
    "aVy_dec = ace_dec.aVy((0,180),var='time', p= 0.90)"
   ]
  },
  {
   "cell_type": "code",
   "execution_count": 14,
   "id": "4e047620f34b7248",
   "metadata": {
    "ExecuteTime": {
     "end_time": "2025-09-11T19:29:58.056325Z",
     "start_time": "2025-09-11T19:29:58.046563Z"
    }
   },
   "outputs": [
    {
     "data": {
      "text/plain": [
       "array([39.21229569, 22.25079576, 16.15076889, 12.91259452, 10.87578054,\n",
       "        9.38236927,  8.3042074 ,  7.43556109,  6.76181651,  6.21961335,\n",
       "        5.70903695,  5.30509069,  5.04772427,  4.72528615,  4.56194464,\n",
       "        4.41531994,  4.2166594 ,  4.13297975,  3.97138115,  3.9610886 ,\n",
       "        3.79438556,  3.7499905 ,  3.62355961,  3.61846502,  3.5932575 ,\n",
       "        3.52604423,  3.42941778,  3.46321892,  3.50764343,  3.40991123,\n",
       "        3.50310921,  3.40277297,  3.4341482 ,  3.42573869,  3.39995321,\n",
       "        3.43710153,  3.41955963,  3.3206168 ,  3.4266893 ,  3.39794363,\n",
       "        3.29841389,  3.3419382 ,  3.27105758,  3.26065826,  3.21699094,\n",
       "        3.2059649 ,  3.17163442,  3.08381942,  2.29106891])"
      ]
     },
     "execution_count": 14,
     "metadata": {},
     "output_type": "execute_result"
    }
   ],
   "source": [
    "aVy_dec[3]"
   ]
  },
  {
   "cell_type": "code",
   "execution_count": 15,
   "id": "e0bac4b808873345",
   "metadata": {
    "ExecuteTime": {
     "end_time": "2025-09-11T19:30:04.315229Z",
     "start_time": "2025-09-11T19:30:04.251378Z"
    }
   },
   "outputs": [],
   "source": [
    "ace_dec.Ea_plot()"
   ]
  },
  {
   "cell_type": "code",
   "execution_count": 16,
   "id": "2e97c5b745024d87",
   "metadata": {
    "ExecuteTime": {
     "end_time": "2025-09-11T19:31:32.572973Z",
     "start_time": "2025-09-11T19:31:32.123133Z"
    }
   },
   "outputs": [
    {
     "name": "stderr",
     "output_type": "stream",
     "text": [
      "/home/erickerock/Materiales/Thermokinetics/pICNIK/picnik_test.py:1797: OptimizeWarning: Covariance of the parameters could not be estimated\n",
      "  popt, pcov = curve_fit(g, x, y)\n"
     ]
    },
    {
     "name": "stdout",
     "output_type": "stream",
     "text": [
      "Accuracy not met with precision of $r^2$ = 0.9999. Lowering precision to $r^2$ = 0.999\n",
      "Accuracy not met with precision of $r^2$ = 0.999. Lowering precision to $r^2$ = 0.99\n",
      "Accuracy not met with precision of $r^2$ = 0.99. Lowering precision to $r^2$ = 0.95\n"
     ]
    }
   ],
   "source": [
    "compensation_dec = ace_dec.compensation_effect(0,aVy_dec[2], aVy_dec[3],error_m='r_NL')"
   ]
  },
  {
   "cell_type": "code",
   "execution_count": 33,
   "id": "f6f25e2d5dc63bb6",
   "metadata": {
    "ExecuteTime": {
     "end_time": "2025-09-11T19:31:33.709567Z",
     "start_time": "2025-09-11T19:31:33.699926Z"
    }
   },
   "outputs": [
    {
     "data": {
      "text/plain": [
       "(array([22.42715186, 18.14342579, 16.08813204, 14.79232675, 14.13086983,\n",
       "        13.65980469, 13.39511827, 13.16102474, 13.03688658, 12.88779573,\n",
       "        12.76429875, 12.68144547, 12.57834294, 12.56020889, 12.44425068,\n",
       "        12.43621531, 12.43436876, 12.345755  , 12.36554142, 12.36469159,\n",
       "        12.35990164, 12.35421772, 12.39849302, 12.37402408, 12.39279369,\n",
       "        12.40622069, 12.41125668, 12.46164761, 12.44777107, 12.49587519,\n",
       "        12.53385662, 12.54239712, 12.59501374, 12.62115847, 12.62993171,\n",
       "        12.70091375, 12.71538937, 12.76063605, 12.80903716, 12.85931862,\n",
       "        12.92147178, 12.98989168, 13.01145981, 13.13489386, 13.20951276,\n",
       "        13.31344527, 13.37630865, 13.49797928, 13.12362834]),\n",
       " array([152.97094438,  86.85382148,  63.08155872,  50.46553058,\n",
       "         42.53598255,  36.72581398,  32.53554327,  29.16205274,\n",
       "         26.54913897,  24.44743255,  22.47090435,  20.90949622,\n",
       "         19.91438718,  18.67228353,  18.04056342,  17.47687442,\n",
       "         16.7143061 ,  16.39047434,  15.77207878,  15.73264939,\n",
       "         15.0948755 ,  14.92504348,  14.44412195,  14.42375455,\n",
       "         14.32835078,  14.0727236 ,  13.70508262,  13.83572123,\n",
       "         14.00428101,  13.63432743,  13.99043726,  13.60909123,\n",
       "         13.73052828,  13.69962188,  13.6019721 ,  13.74608398,\n",
       "         13.68000387,  13.30618828,  13.71096157,  13.60385976,\n",
       "         13.22887117,  13.39683826,  13.12911774,  13.09515905,\n",
       "         12.93325958,  12.8962602 ,  12.76943164,  12.44387429,\n",
       "          9.46744995]),\n",
       " np.float64(0.38610347166140285),\n",
       " np.float64(0.0037630160508293578),\n",
       " np.float64(-3.8991359328870034),\n",
       " np.float64(0.07111585325719329),\n",
       " array([8.40580363e-05, 6.96641269e-04, 4.17180574e-02, 9.69638523e+03]),\n",
       " array([-13.89062263,  -8.79321032,   1.49181557,  34.00202369]),\n",
       " array([0.96771519, 0.97184911, 0.97962133, 0.98807879]),\n",
       " [<function rxn_models.rxn_models.P4(a, integral=False)>,\n",
       "  <function rxn_models.rxn_models.P3(a, integral=False)>,\n",
       "  <function rxn_models.rxn_models.P2(a, integral=False)>,\n",
       "  <function rxn_models.rxn_models.F0(a, integral=False)>])"
      ]
     },
     "execution_count": 33,
     "metadata": {},
     "output_type": "execute_result"
    }
   ],
   "source": [
    "compensation_dec"
   ]
  },
  {
   "cell_type": "code",
   "execution_count": 17,
   "id": "33f7dacf2758448c",
   "metadata": {
    "ExecuteTime": {
     "end_time": "2025-09-11T19:31:34.950276Z",
     "start_time": "2025-09-11T19:31:34.871277Z"
    }
   },
   "outputs": [
    {
     "data": {
      "text/plain": [
       "array([0.01600493, 0.0350641 , 0.05566859, 0.07712892, 0.09906626,\n",
       "       0.12125277, 0.14361402, 0.16608723, 0.18866354, 0.21130568,\n",
       "       0.23401002, 0.25680688, 0.27963311, 0.30255287, 0.32548914,\n",
       "       0.34852042, 0.37163001, 0.39471196, 0.41792243, 0.44124716,\n",
       "       0.46465463, 0.488131  , 0.51180558, 0.53556089, 0.559441  ,\n",
       "       0.58346186, 0.60762335, 0.63200146, 0.65647748, 0.68116783,\n",
       "       0.70604103, 0.73107201, 0.75632484, 0.78172548, 0.80729115,\n",
       "       0.83315666, 0.85917528, 0.88545178, 0.91195144, 0.93874176,\n",
       "       0.96581107, 0.99324306, 1.02086994, 1.04902491, 1.0775916 ,\n",
       "       1.10667182, 1.13631962, 1.16674897])"
      ]
     },
     "execution_count": 17,
     "metadata": {},
     "output_type": "execute_result"
    }
   ],
   "source": [
    "ace_dec.reconstruction(aVy_dec[2],\n",
    "                       np.exp(compensation_dec[0]),\n",
    "                       BD[0])"
   ]
  },
  {
   "cell_type": "code",
   "execution_count": null,
   "id": "f939bd44a3a17570",
   "metadata": {},
   "outputs": [],
   "source": [
    "import pandas as pd\n",
    "\n",
    "nist = pd.read_csv('/home/erickerock/Materiales/Thermokinetics/pICNIK/Decano/NIST_entalpias.csv')"
   ]
  },
  {
   "cell_type": "code",
   "execution_count": null,
   "id": "321b74aa51b16984",
   "metadata": {},
   "outputs": [],
   "source": [
    "def enthalpy(T, A, b):\n",
    "    Tc = 617.8\n",
    "    a = np.exp(-b * (T / Tc))\n",
    "    c = (1 - (T / Tc))**b\n",
    "    return A*a*c"
   ]
  },
  {
   "cell_type": "code",
   "execution_count": null,
   "id": "c626cb07cb080104",
   "metadata": {},
   "outputs": [],
   "source": [
    "from scipy.optimize import curve_fit\n",
    "\n",
    "popt, pcov = curve_fit(enthalpy,\n",
    "                       nist[nist.columns[1]].values,\n",
    "                       nist[nist.columns[0]].values)\n",
    "\n",
    "popt, pcov"
   ]
  },
  {
   "cell_type": "code",
   "execution_count": null,
   "id": "c75c377797ba9ddd",
   "metadata": {},
   "outputs": [],
   "source": [
    "plt.errorbar(aVy_dec[1],aVy_dec[2],aVy_dec[3])\n",
    "plt.plot(nist[nist.columns[1]].values,\n",
    "         nist[nist.columns[0]].values, 'ro')"
   ]
  },
  {
   "cell_type": "markdown",
   "id": "d1e26ebc-b7e7-4845-97e9-d0a7c01340cf",
   "metadata": {},
   "source": [
    "## Datos Enelio"
   ]
  },
  {
   "cell_type": "code",
   "execution_count": 18,
   "id": "f92a5e69-5854-44ff-940a-9395aca28054",
   "metadata": {
    "ExecuteTime": {
     "end_time": "2025-09-11T19:31:59.808432Z",
     "start_time": "2025-09-11T19:31:59.801989Z"
    }
   },
   "outputs": [],
   "source": [
    "acl = ['Enelio_test/ACL_1.5.csv',\n",
    "       'Enelio_test/ACL_2.5.csv',\n",
    "       'Enelio_test/ACL_5.csv',\n",
    "       'Enelio_test/ACL_7.5.csv']"
   ]
  },
  {
   "cell_type": "code",
   "execution_count": 19,
   "id": "8b584311-d37c-4364-b4a2-9bc7e83c1d9d",
   "metadata": {
    "ExecuteTime": {
     "end_time": "2025-09-11T19:32:01.343121Z",
     "start_time": "2025-09-11T19:32:00.914501Z"
    }
   },
   "outputs": [
    {
     "name": "stdout",
     "output_type": "stream",
     "text": [
      "Files to be used: \n",
      "['Enelio_test/ACL_1.5.csv', 'Enelio_test/ACL_2.5.csv', 'Enelio_test/ACL_5.csv', 'Enelio_test/ACL_7.5.csv']\n",
      " \n",
      "Reading files and creating DataFrames...\n",
      "\n",
      "The computed heating rates are:\n",
      "\n",
      "\n",
      " 1.504 +/- 0.132 K/min\n",
      "\n",
      "\n",
      " 2.523 +/- 0.293 K/min\n",
      "\n",
      "\n",
      " 5.139 +/- 0.609 K/min\n",
      "\n",
      "\n",
      " 7.828 +/- 0.789 K/min\n",
      "\n"
     ]
    },
    {
     "name": "stderr",
     "output_type": "stream",
     "text": [
      "/home/erickerock/.local/lib/python3.10/site-packages/numpy/lib/_function_base_impl.py:1290: RuntimeWarning: divide by zero encountered in divide\n",
      "  a = -(dx2)/(dx1 * (dx1 + dx2))\n",
      "/home/erickerock/.local/lib/python3.10/site-packages/numpy/lib/_function_base_impl.py:1291: RuntimeWarning: divide by zero encountered in divide\n",
      "  b = (dx2 - dx1) / (dx1 * dx2)\n",
      "/home/erickerock/.local/lib/python3.10/site-packages/numpy/lib/_function_base_impl.py:1298: RuntimeWarning: invalid value encountered in add\n",
      "  out[tuple(slice1)] = a * f[tuple(slice2)] + b * f[tuple(slice3)] + c * f[tuple(slice4)]\n",
      "/home/erickerock/.local/lib/python3.10/site-packages/numpy/lib/_function_base_impl.py:1329: RuntimeWarning: divide by zero encountered in scalar divide\n",
      "  a = -(2. * dx1 + dx2)/(dx1 * (dx1 + dx2))\n",
      "/home/erickerock/.local/lib/python3.10/site-packages/numpy/lib/_function_base_impl.py:1330: RuntimeWarning: divide by zero encountered in scalar divide\n",
      "  b = (dx1 + dx2) / (dx1 * dx2)\n",
      "/home/erickerock/.local/lib/python3.10/site-packages/numpy/lib/_function_base_impl.py:1333: RuntimeWarning: invalid value encountered in scalar add\n",
      "  out[tuple(slice1)] = a * f[tuple(slice2)] + b * f[tuple(slice3)] + c * f[tuple(slice4)]\n",
      "/home/erickerock/.local/lib/python3.10/site-packages/numpy/lib/_function_base_impl.py:1307: RuntimeWarning: divide by zero encountered in scalar divide\n",
      "  out[tuple(slice1)] = (f[tuple(slice2)] - f[tuple(slice3)]) / dx_0\n",
      "/home/erickerock/.local/lib/python3.10/site-packages/numpy/lib/_function_base_impl.py:1290: RuntimeWarning: divide by zero encountered in divide\n",
      "  a = -(dx2)/(dx1 * (dx1 + dx2))\n",
      "/home/erickerock/.local/lib/python3.10/site-packages/numpy/lib/_function_base_impl.py:1291: RuntimeWarning: divide by zero encountered in divide\n",
      "  b = (dx2 - dx1) / (dx1 * dx2)\n",
      "/home/erickerock/.local/lib/python3.10/site-packages/numpy/lib/_function_base_impl.py:1298: RuntimeWarning: invalid value encountered in add\n",
      "  out[tuple(slice1)] = a * f[tuple(slice2)] + b * f[tuple(slice3)] + c * f[tuple(slice4)]\n",
      "/home/erickerock/.local/lib/python3.10/site-packages/numpy/lib/_function_base_impl.py:1307: RuntimeWarning: invalid value encountered in scalar divide\n",
      "  out[tuple(slice1)] = (f[tuple(slice2)] - f[tuple(slice3)]) / dx_0\n"
     ]
    },
    {
     "name": "stdout",
     "output_type": "stream",
     "text": [
      "Computing conversion values...\n",
      "Done\n",
      "Creating Isoconversion DataFrames...\n",
      "Done\n"
     ]
    }
   ],
   "source": [
    "xtr_acl = pnk.DataExtraction()\n",
    "Bacl, T0acl = xtr_acl.read_files(acl)\n",
    "xtr_acl.plot_data(x_data='temperature', x_units='K')\n",
    "xtr_acl.Conversion([xtr_acl.DFlis[k]['Temperature [K]'].values[0] for k in range(len(Bacl))],\n",
    "                   [xtr_acl.DFlis[k]['Temperature [K]'].values[-1] for k in range(len(Bacl))])  # calculation of the conversion degree in the temperature range (Ti,Tf)\n",
    "isoTables_acl = xtr_acl.Isoconversion(d_a=0.01)"
   ]
  },
  {
   "cell_type": "code",
   "execution_count": 20,
   "id": "f1788ec5-eca3-4e49-9f4e-4195e86ab4c2",
   "metadata": {
    "ExecuteTime": {
     "end_time": "2025-09-11T19:32:21.318928Z",
     "start_time": "2025-09-11T19:32:20.190797Z"
    }
   },
   "outputs": [
    {
     "name": "stdout",
     "output_type": "stream",
     "text": [
      "Advanced Vyazovkin method: Computing activation energies...\n",
      "Done.\n"
     ]
    }
   ],
   "source": [
    "ace_acl = pnk.ActivationEnergy(Bacl,\n",
    "                               T0acl,\n",
    "                               isoTables_acl)\n",
    "aVy_acl = ace_acl.aVy((0,180),var='time', p= 0.90)"
   ]
  },
  {
   "cell_type": "code",
   "execution_count": 21,
   "id": "b6212d686f764858",
   "metadata": {
    "ExecuteTime": {
     "end_time": "2025-09-11T19:32:22.575644Z",
     "start_time": "2025-09-11T19:32:22.493585Z"
    }
   },
   "outputs": [],
   "source": [
    "ace_acl.Ea_plot()"
   ]
  },
  {
   "cell_type": "code",
   "execution_count": 22,
   "id": "15443e1b18dee1dc",
   "metadata": {},
   "outputs": [
    {
     "name": "stdout",
     "output_type": "stream",
     "text": [
      "Exporting data in csv format...\n",
      "Done\n"
     ]
    }
   ],
   "source": [
    "ace_acl.export_Ea()"
   ]
  },
  {
   "cell_type": "code",
   "execution_count": 35,
   "id": "b78d674331139d78",
   "metadata": {
    "ExecuteTime": {
     "end_time": "2025-09-11T19:36:15.430824Z",
     "start_time": "2025-09-11T19:36:14.998393Z"
    }
   },
   "outputs": [],
   "source": [
    "compensation_acl = ace_acl.compensation_effect(0,\n",
    "                                               aVy_acl[2],\n",
    "                                               aVy_acl[3],\n",
    "                                               error_m='mse_NL')"
   ]
  },
  {
   "cell_type": "code",
   "execution_count": 32,
   "id": "9ac7d0b2f843fcfa",
   "metadata": {
    "ExecuteTime": {
     "end_time": "2025-09-11T19:36:20.250902Z",
     "start_time": "2025-09-11T19:36:20.241438Z"
    }
   },
   "outputs": [
    {
     "ename": "TypeError",
     "evalue": "'NoneType' object is not subscriptable",
     "output_type": "error",
     "traceback": [
      "\u001b[0;31m---------------------------------------------------------------------------\u001b[0m",
      "\u001b[0;31mTypeError\u001b[0m                                 Traceback (most recent call last)",
      "Cell \u001b[0;32mIn[32], line 1\u001b[0m\n\u001b[0;32m----> 1\u001b[0m \u001b[43mcompensation_acl\u001b[49m\u001b[43m[\u001b[49m\u001b[38;5;241;43m-\u001b[39;49m\u001b[38;5;241;43m1\u001b[39;49m\u001b[43m]\u001b[49m\n",
      "\u001b[0;31mTypeError\u001b[0m: 'NoneType' object is not subscriptable"
     ]
    }
   ],
   "source": [
    "compensation_acl[-1]"
   ]
  },
  {
   "cell_type": "code",
   "execution_count": 36,
   "id": "f8a1bc3ebbe4e274",
   "metadata": {
    "ExecuteTime": {
     "end_time": "2025-09-11T19:36:24.435106Z",
     "start_time": "2025-09-11T19:36:24.288530Z"
    }
   },
   "outputs": [],
   "source": [
    "plt.errorbar(aVy_acl[0],\n",
    "             compensation_acl[0],\n",
    "             compensation_acl[1])\n",
    "plt.xlabel(r'$\\alpha$')\n",
    "plt.ylabel(r'$\\ln(A_{\\alpha})$')\n",
    "plt.grid(True)"
   ]
  },
  {
   "cell_type": "code",
   "execution_count": 37,
   "id": "ec548d24fb8ab979",
   "metadata": {
    "ExecuteTime": {
     "end_time": "2025-09-11T19:36:29.264371Z",
     "start_time": "2025-09-11T19:36:29.173833Z"
    }
   },
   "outputs": [
    {
     "data": {
      "text/plain": [
       "array([0.00726022, 0.01052718, 0.01408411, 0.01768012, 0.02150651,\n",
       "       0.02517915, 0.02922057, 0.03322051, 0.0372269 , 0.04133816,\n",
       "       0.04564489, 0.05000487, 0.05431035, 0.0586005 , 0.06301365,\n",
       "       0.06750267, 0.07199605, 0.0765491 , 0.08112254, 0.08568301,\n",
       "       0.09028215, 0.0949655 , 0.09973747, 0.10458352, 0.1094869 ,\n",
       "       0.11442498, 0.1193832 , 0.12435661, 0.12936631, 0.13444277,\n",
       "       0.1396164 , 0.14487351, 0.15017913, 0.15549618, 0.16082002,\n",
       "       0.16617617, 0.17159469, 0.17708826, 0.18264133, 0.18824222,\n",
       "       0.1938757 , 0.19954875, 0.20527982, 0.2110875 , 0.21699465,\n",
       "       0.22300545, 0.22910397, 0.23527386, 0.24148933, 0.24774304,\n",
       "       0.25404533, 0.26042182, 0.26689142, 0.27347667, 0.2801812 ,\n",
       "       0.28699507, 0.29390783, 0.30090925, 0.30799376, 0.31517167,\n",
       "       0.32245395, 0.32985508, 0.33738563, 0.34505702, 0.35288112,\n",
       "       0.36087155, 0.36903728, 0.37739708, 0.3859402 , 0.3946397 ,\n",
       "       0.40347179, 0.41240179, 0.42139994, 0.43049013, 0.43970948,\n",
       "       0.44911668, 0.4587648 , 0.46870966, 0.4789676 , 0.48953546,\n",
       "       0.50039794, 0.51155202, 0.52298873, 0.53474556, 0.54688301,\n",
       "       0.55943159, 0.57248343, 0.5861494 , 0.60054179, 0.61579799,\n",
       "       0.63201029, 0.64906587, 0.6668553 , 0.68504596, 0.70270314,\n",
       "       0.72190931, 0.74688656, 0.77995693])"
      ]
     },
     "execution_count": 37,
     "metadata": {},
     "output_type": "execute_result"
    }
   ],
   "source": [
    "ace_acl.reconstruction(aVy_acl[2],\n",
    "                       np.exp(compensation_acl[0]),\n",
    "                       Bacl[0])"
   ]
  },
  {
   "cell_type": "code",
   "execution_count": null,
   "id": "919377f5-c119-441b-912e-d180fc33b0f6",
   "metadata": {},
   "outputs": [],
   "source": []
  }
 ],
 "metadata": {
  "kernelspec": {
   "display_name": "Python 3 (ipykernel)",
   "language": "python",
   "name": "python3"
  },
  "language_info": {
   "codemirror_mode": {
    "name": "ipython",
    "version": 3
   },
   "file_extension": ".py",
   "mimetype": "text/x-python",
   "name": "python",
   "nbconvert_exporter": "python",
   "pygments_lexer": "ipython3",
   "version": "3.10.12"
  }
 },
 "nbformat": 4,
 "nbformat_minor": 5
}
